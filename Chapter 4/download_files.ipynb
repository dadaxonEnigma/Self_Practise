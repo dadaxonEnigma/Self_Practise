{
 "cells": [
  {
   "cell_type": "markdown",
   "metadata": {},
   "source": [
    "## Работа с изображениями"
   ]
  },
  {
   "cell_type": "markdown",
   "metadata": {},
   "source": [
    "### Загрузка файла изображения\n",
    "Начнем с загрузки изображения в формате **PNG** с помощью модуля **imageio**\n",
    "Изображение здесь представляет собой подобный массиву NumPy объект с тремя измерениями H-W-C(hight, width, channel)"
   ]
  },
  {
   "cell_type": "code",
   "execution_count": 1,
   "metadata": {},
   "outputs": [],
   "source": [
    "import imageio"
   ]
  },
  {
   "cell_type": "code",
   "execution_count": 4,
   "metadata": {},
   "outputs": [
    {
     "name": "stderr",
     "output_type": "stream",
     "text": [
      "C:\\Users\\User\\AppData\\Local\\Temp\\ipykernel_10556\\649822854.py:1: DeprecationWarning: Starting with ImageIO v3 the behavior of this function will switch to that of iio.v3.imread. To keep the current behavior (and make this warning disappear) use `import imageio.v2 as imageio` or call `imageio.v2.imread` directly.\n",
      "  img_arr = imageio.imread('1.jpg')\n"
     ]
    },
    {
     "data": {
      "text/plain": [
       "(499, 333, 3)"
      ]
     },
     "execution_count": 4,
     "metadata": {},
     "output_type": "execute_result"
    }
   ],
   "source": [
    "img_arr = imageio.imread('1.jpg')\n",
    "img_arr.shape"
   ]
  },
  {
   "cell_type": "markdown",
   "metadata": {},
   "source": [
    "### Изменения схемы расположения\n",
    "Для получения нужной схемы исп метод **permute** H-W-C ---> C-H-W (for work with Pytorch)\n",
    "переменная **out** не копирует данные, он исп то же самое хранилище. Низкие затраты на память, но если изменим **img** то **out** тоже изменится "
   ]
  },
  {
   "cell_type": "code",
   "execution_count": 7,
   "metadata": {},
   "outputs": [
    {
     "data": {
      "text/plain": [
       "torch.Size([3, 499, 333])"
      ]
     },
     "execution_count": 7,
     "metadata": {},
     "output_type": "execute_result"
    }
   ],
   "source": [
    "import torch\n",
    "img = torch.from_numpy(img_arr)\n",
    "out = img.permute(2,0,1)\n",
    "out.shape"
   ]
  },
  {
   "cell_type": "markdown",
   "metadata": {},
   "source": [
    "Чтобы .создать входной набор данных для наших нейронных сетей из **нескольких изображений**, мы сохраняем изображения в **батчах** по первому измерению и получаем тензор вида N-C-H-W\n",
    "Несколько более эффективная альтернатива использованию для создания тензора **stack** — выделить заранее память под тензор нужного размера,\n",
    "а затем заполнить его загруженными из каталога изображениями следующим образом:"
   ]
  },
  {
   "cell_type": "code",
   "execution_count": 8,
   "metadata": {},
   "outputs": [],
   "source": [
    "batch_size = 3 \n",
    "batch = torch.zeros(batch_size, 3, 256,256, dtype=torch.uint8)"
   ]
  },
  {
   "cell_type": "code",
   "execution_count": null,
   "metadata": {},
   "outputs": [],
   "source": []
  }
 ],
 "metadata": {
  "kernelspec": {
   "display_name": "myenv",
   "language": "python",
   "name": "menv"
  },
  "language_info": {
   "codemirror_mode": {
    "name": "ipython",
    "version": 3
   },
   "file_extension": ".py",
   "mimetype": "text/x-python",
   "name": "python",
   "nbconvert_exporter": "python",
   "pygments_lexer": "ipython3",
   "version": "3.10.8"
  }
 },
 "nbformat": 4,
 "nbformat_minor": 2
}
